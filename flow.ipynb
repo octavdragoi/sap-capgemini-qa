{
 "cells": [
  {
   "cell_type": "code",
   "execution_count": 12,
   "metadata": {},
   "outputs": [],
   "source": [
    "#from keys import ml_prod_servicekey as ml_key\n",
    "from keys import ml_servicekey_hole as ml_key\n",
    "from ml_interface import MLFoundationClient, DefectCode\n",
    "from database_interface import DBClient\n",
    "from image_interface import ImageDBClient"
   ]
  },
  {
   "cell_type": "code",
   "execution_count": 7,
   "metadata": {},
   "outputs": [
    {
     "ename": "NameError",
     "evalue": "name 'ml_key' is not defined",
     "output_type": "error",
     "traceback": [
      "\u001b[1;31m---------------------------------------------------------------------------\u001b[0m",
      "\u001b[1;31mNameError\u001b[0m                                 Traceback (most recent call last)",
      "\u001b[1;32m<ipython-input-7-bffe8b2be40d>\u001b[0m in \u001b[0;36m<module>\u001b[1;34m\u001b[0m\n\u001b[0;32m      1\u001b[0m \u001b[1;31m# init the clients\u001b[0m\u001b[1;33m\u001b[0m\u001b[1;33m\u001b[0m\u001b[1;33m\u001b[0m\u001b[0m\n\u001b[0;32m      2\u001b[0m \u001b[0mdb_client\u001b[0m \u001b[1;33m=\u001b[0m \u001b[0mDBClient\u001b[0m\u001b[1;33m(\u001b[0m\u001b[1;33m)\u001b[0m\u001b[1;33m\u001b[0m\u001b[1;33m\u001b[0m\u001b[0m\n\u001b[1;32m----> 3\u001b[1;33m \u001b[0mml_client\u001b[0m \u001b[1;33m=\u001b[0m \u001b[0mMLFoundationClient\u001b[0m\u001b[1;33m(\u001b[0m\u001b[0mml_key\u001b[0m\u001b[1;33m,\u001b[0m \u001b[0moffline\u001b[0m \u001b[1;33m=\u001b[0m \u001b[1;32mTrue\u001b[0m\u001b[1;33m)\u001b[0m\u001b[1;33m\u001b[0m\u001b[1;33m\u001b[0m\u001b[0m\n\u001b[0m\u001b[0;32m      4\u001b[0m \u001b[0mim_client\u001b[0m \u001b[1;33m=\u001b[0m \u001b[0mImageDBClient\u001b[0m\u001b[1;33m(\u001b[0m\u001b[1;33m)\u001b[0m\u001b[1;33m\u001b[0m\u001b[1;33m\u001b[0m\u001b[0m\n",
      "\u001b[1;31mNameError\u001b[0m: name 'ml_key' is not defined"
     ]
    }
   ],
   "source": [
    "# init the clients\n",
    "db_client = DBClient(\"dummy\")\n",
    "ml_client = MLFoundationClient(ml_key, offline = True)\n",
    "im_client = ImageDBClient()"
   ]
  },
  {
   "cell_type": "code",
   "execution_count": 13,
   "metadata": {},
   "outputs": [],
   "source": [
    "img_path = \"test-photo2.jpeg\"\n",
    "img = open(img_path, \"rb\")"
   ]
  },
  {
   "cell_type": "code",
   "execution_count": 14,
   "metadata": {},
   "outputs": [
    {
     "data": {
      "text/plain": [
       "'cb144563-73f2-417f-a600-eced70ef7438'"
      ]
     },
     "execution_count": 14,
     "metadata": {},
     "output_type": "execute_result"
    }
   ],
   "source": [
    "# use this key to upload to the database\n",
    "key = im_client.upload(img_path)"
   ]
  },
  {
   "cell_type": "code",
   "execution_count": 15,
   "metadata": {},
   "outputs": [
    {
     "name": "stdout",
     "output_type": "stream",
     "text": [
      "{'image1': 'cb144563-73f2-417f-a600-eced70ef7438', 'image2': 'cb144563-73f2-417f-a600-eced70ef7438', 'defects': [<DefectCode.Hole: 5>]}\n"
     ]
    }
   ],
   "source": [
    "key = 'cb144563-73f2-417f-a600-eced70ef7438'\n",
    "# for every model\n",
    "client = MLFoundationClient(ml_servicekey_hole)\n",
    "defects = client.modelPredictOne(\"Hole.jpg\", \"hole\",\"HoleModel\", DefectCode.Hole)\n",
    "\n",
    "#unite the lists\n",
    "\n",
    "\n",
    "#make the json\n",
    "imageInfo= {\n",
    "    'image1' : key,\n",
    "    'image2' : key,\n",
    "    'defects' : defects     \n",
    "}\n",
    "print(imageInfo)"
   ]
  },
  {
   "cell_type": "code",
   "execution_count": null,
   "metadata": {},
   "outputs": [],
   "source": [
    "db_client.saveMachineLearningResult(imageInfo, productExists=False)"
   ]
  }
 ],
 "metadata": {
  "kernelspec": {
   "display_name": "Python 3",
   "language": "python",
   "name": "python3"
  },
  "language_info": {
   "codemirror_mode": {
    "name": "ipython",
    "version": 3
   },
   "file_extension": ".py",
   "mimetype": "text/x-python",
   "name": "python",
   "nbconvert_exporter": "python",
   "pygments_lexer": "ipython3",
   "version": "3.7.1"
  }
 },
 "nbformat": 4,
 "nbformat_minor": 2
}
