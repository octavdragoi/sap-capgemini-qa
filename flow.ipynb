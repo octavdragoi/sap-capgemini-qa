{
 "cells": [
  {
   "cell_type": "code",
   "execution_count": 1,
   "metadata": {},
   "outputs": [],
   "source": [
    "#from keys import ml_prod_servicekey as ml_key\n",
    "from keys import ml_servicekey_hole, ml_servicekey_scratch\n",
    "from ml_interface import MLFoundationClient, DefectCode\n",
    "from database_interface import DBClient\n",
    "from image_interface import ImageDBClient"
   ]
  },
  {
   "cell_type": "code",
   "execution_count": 3,
   "metadata": {},
   "outputs": [],
   "source": [
    "# init the clients\n",
    "db_client = DBClient()\n",
    "#ml_client = MLFoundationClient(ml_key, offline = True)\n",
    "im_client = ImageDBClient()"
   ]
  },
  {
   "cell_type": "code",
   "execution_count": 4,
   "metadata": {},
   "outputs": [],
   "source": [
    "img_path = \"test-photo2.jpeg\"\n",
    "img_path2 = \"Hole.jpg\"\n",
    "img = open(img_path, \"rb\")\n",
    "img2 = open(img_path, \"rb\")"
   ]
  },
  {
   "cell_type": "code",
   "execution_count": 5,
   "metadata": {},
   "outputs": [],
   "source": [
    "# use this key to upload to the database\n",
    "key = im_client.upload(img_path)\n",
    "key2 = im_client.upload(img_path2)"
   ]
  },
  {
   "cell_type": "code",
   "execution_count": 6,
   "metadata": {},
   "outputs": [
    {
     "name": "stdout",
     "output_type": "stream",
     "text": [
      "{'image1': '1d60ec14-710e-4f56-96b1-36320f7dd1d1', 'image2': '46c18248-ea30-48de-a0b1-8c8db038d06e', 'defects': [<DefectCode.Scratch: 2>, <DefectCode.Hole: 5>]}\n"
     ]
    }
   ],
   "source": [
    "\n",
    "# for every model\n",
    "clientHole = MLFoundationClient(ml_servicekey_hole)\n",
    "defectHole = clientHole.modelPredictOne(img_path, \"hole\",\"HoleModel\", DefectCode.Hole)\n",
    "defectHole2 = clientHole.modelPredictOne(img_path2, \"hole\",\"HoleModel\", DefectCode.Hole)\n",
    "\n",
    "clientScratch = MLFoundationClient(ml_servicekey_scratch)\n",
    "defectScratch = clientScratch.modelPredictOne(img_path, \"scratch\",\"ScratchModel\", DefectCode.Scratch)\n",
    "defectScratch2 = clientScratch.modelPredictOne(img_path2, \"scratch\",\"ScratchModel\", DefectCode.Scratch)\n",
    "\n",
    "defects = list(set(defectHole+defectHole2+defectScratch+defectScratch2))\n",
    "\n",
    "#unite the lists\n",
    "\n",
    "\n",
    "#make the json\n",
    "imageInfo= {\n",
    "    'image1' : key,\n",
    "    'image2' : key2,\n",
    "    'defects' : defects     \n",
    "}\n",
    "print(imageInfo)"
   ]
  },
  {
   "cell_type": "code",
   "execution_count": 7,
   "metadata": {},
   "outputs": [
    {
     "name": "stdout",
     "output_type": "stream",
     "text": [
      "New register inserted succesfully\n"
     ]
    },
    {
     "data": {
      "text/plain": [
       "True"
      ]
     },
     "execution_count": 7,
     "metadata": {},
     "output_type": "execute_result"
    }
   ],
   "source": [
    "db_client.saveMachineLearningResult(imageInfo, productExists=False)"
   ]
  }
 ],
 "metadata": {
  "kernelspec": {
   "display_name": "Python 3",
   "language": "python",
   "name": "python3"
  },
  "language_info": {
   "codemirror_mode": {
    "name": "ipython",
    "version": 3
   },
   "file_extension": ".py",
   "mimetype": "text/x-python",
   "name": "python",
   "nbconvert_exporter": "python",
   "pygments_lexer": "ipython3",
   "version": "3.7.1"
  }
 },
 "nbformat": 4,
 "nbformat_minor": 2
}
