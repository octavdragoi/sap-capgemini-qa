{
 "cells": [
  {
   "cell_type": "code",
   "execution_count": 19,
   "metadata": {},
   "outputs": [],
   "source": [
    "#from keys import ml_prod_servicekey as ml_key\n",
    "from keys import ml_servicekey_wrongobject, ml_servicekey_hole, ml_servicekey_scratch\n",
    "from ml_interface import MLFoundationClient, DefectCode\n",
    "from database_interface import DBClient\n",
    "from image_interface import ImageDBClient"
   ]
  },
  {
   "cell_type": "code",
   "execution_count": 18,
   "metadata": {},
   "outputs": [
    {
     "name": "stdout",
     "output_type": "stream",
     "text": [
      "[]\n",
      "[]\n",
      "[]\n",
      "[]\n",
      "[]\n",
      "[]\n",
      "[]\n",
      "[]\n",
      "[]\n",
      "[]\n",
      "[]\n",
      "['test-photo.jpg']\n",
      "['test-photo.jpg']\n",
      "['test-photo.jpg']\n",
      "['test-photo.jpg']\n",
      "['test-photo.jpg']\n",
      "['test-photo.jpg']\n",
      "['test-photo.jpg', 'test-photo2.jpeg']\n",
      "[]\n",
      "[]\n",
      "[]\n",
      "[]\n",
      "[]\n",
      "[]\n",
      "[]\n",
      "[]\n",
      "[]\n",
      "[]\n"
     ]
    },
    {
     "ename": "KeyboardInterrupt",
     "evalue": "",
     "output_type": "error",
     "traceback": [
      "\u001b[0;31m---------------------------------------------------------------------------\u001b[0m",
      "\u001b[0;31mKeyboardInterrupt\u001b[0m                         Traceback (most recent call last)",
      "\u001b[0;32m<ipython-input-18-aa023a8401b9>\u001b[0m in \u001b[0;36m<module>\u001b[0;34m\u001b[0m\n\u001b[1;32m     14\u001b[0m         \u001b[0mfiles\u001b[0m \u001b[0;34m=\u001b[0m \u001b[0mcurr_files\u001b[0m\u001b[0;34m\u001b[0m\u001b[0;34m\u001b[0m\u001b[0m\n\u001b[1;32m     15\u001b[0m     \u001b[0mprint\u001b[0m \u001b[0;34m(\u001b[0m\u001b[0mnew_files\u001b[0m\u001b[0;34m)\u001b[0m\u001b[0;34m\u001b[0m\u001b[0;34m\u001b[0m\u001b[0m\n\u001b[0;32m---> 16\u001b[0;31m     \u001b[0mtime\u001b[0m\u001b[0;34m.\u001b[0m\u001b[0msleep\u001b[0m\u001b[0;34m(\u001b[0m\u001b[0msleep_time\u001b[0m\u001b[0;34m)\u001b[0m\u001b[0;34m\u001b[0m\u001b[0;34m\u001b[0m\u001b[0m\n\u001b[0m",
      "\u001b[0;31mKeyboardInterrupt\u001b[0m: "
     ]
    }
   ],
   "source": [
    "import os\n",
    "import time\n",
    "\n",
    "input_dir = \"input/\"\n",
    "sleep_time = 1 # seconds\n",
    "approved_extensions = [\".jpg\", \".jpeg\"]\n",
    "\n",
    "files = []\n",
    "while 1:\n",
    "    curr_files = os.listdir(input_dir)\n",
    "    new_files = [x for x in curr_files if x not in files and \n",
    "                 any([x.endswith(ext) for ext in approved_extensions])]\n",
    "    if len(new_files) >= 2:\n",
    "        files = curr_files\n",
    "    print (new_files)\n",
    "    time.sleep(sleep_time)"
   ]
  },
  {
   "cell_type": "code",
   "execution_count": 34,
   "metadata": {},
   "outputs": [
    {
     "data": {
      "text/plain": [
       "(3024, 4032)"
      ]
     },
     "execution_count": 34,
     "metadata": {},
     "output_type": "execute_result"
    }
   ],
   "source": [
    "from PIL import Image\n",
    "i1 = Image.open(\"test-photo3.jpg\")\n",
    "i1.size"
   ]
  },
  {
   "cell_type": "code",
   "execution_count": 33,
   "metadata": {},
   "outputs": [],
   "source": [
    "i1.thumbnail((1440, 1920), Image.ANTIALIAS)\n",
    "i1.save(\"test-photo3-resized.jpg\", \"JPEG\")"
   ]
  },
  {
   "cell_type": "code",
   "execution_count": 2,
   "metadata": {},
   "outputs": [],
   "source": [
    "# init the clients\n",
    "db_client = DBClient()\n",
    "#ml_client = MLFoundationClient(ml_key, offline = True)\n",
    "im_client = ImageDBClient()"
   ]
  },
  {
   "cell_type": "code",
   "execution_count": 3,
   "metadata": {},
   "outputs": [],
   "source": [
    "img_path = \"test-photo2.jpeg\"\n",
    "img_path2 = \"test-photo.jpg\"\n",
    "img = open(img_path, \"rb\")\n",
    "img2 = open(img_path2, \"rb\")"
   ]
  },
  {
   "cell_type": "code",
   "execution_count": 6,
   "metadata": {},
   "outputs": [],
   "source": [
    "# use this key to upload to the database\n",
    "key = im_client.upload(img_path)\n",
    "key2 = im_client.upload(img_path2)"
   ]
  },
  {
   "cell_type": "code",
   "execution_count": 7,
   "metadata": {},
   "outputs": [
    {
     "name": "stdout",
     "output_type": "stream",
     "text": [
      "{'id': '20bec5fc-fd45-4376-5276-929719db8135', 'predictions': [{'name': 'test-photo2.jpeg', 'results': [{'label': 'right_object', 'score': 0.935053288936615}, {'label': 'wrong_object', 'score': 0.06494668871164322}]}], 'processedTime': '2019-07-03T16:42:36.095727+00:00', 'status': 'DONE'}\n",
      "{'id': 'f19ffedf-31cc-47fd-7863-df64cab4922a', 'predictions': [{'name': 'test-photo.jpg', 'results': [{'label': 'right_object', 'score': 0.9922181367874146}, {'label': 'wrong_object', 'score': 0.0077818320132792}]}], 'processedTime': '2019-07-03T16:42:38.899700+00:00', 'status': 'DONE'}\n",
      "{'id': '3eaba295-91ca-45f6-51d7-746dbeeb7308', 'predictions': [{'name': 'test-photo2.jpeg', 'results': [{'label': 'no_hole', 'score': 0.6651802659034729}, {'label': 'hole', 'score': 0.3348197638988495}]}], 'processedTime': '2019-07-03T16:42:42.297105+00:00', 'status': 'DONE'}\n",
      "{'id': 'b1d51b78-d753-4701-5bac-dca18bce523e', 'predictions': [{'name': 'test-photo.jpg', 'results': [{'label': 'no_hole', 'score': 0.989349901676178}, {'label': 'hole', 'score': 0.010650037787854671}]}], 'processedTime': '2019-07-03T16:42:46.883804+00:00', 'status': 'DONE'}\n",
      "{'id': '98fb18f9-9dbd-4272-589b-14603e90ef2f', 'predictions': [{'name': 'test-photo2.jpeg', 'results': [{'label': 'scratch', 'score': 0.9204025864601135}, {'label': 'no_scratch', 'score': 0.07959739863872528}]}], 'processedTime': '2019-07-03T16:42:48.794968+00:00', 'status': 'DONE'}\n",
      "{'id': 'a112e440-326f-4411-4508-639a4e6765d4', 'predictions': [{'name': 'test-photo.jpg', 'results': [{'label': 'scratch', 'score': 0.6285393834114075}, {'label': 'no_scratch', 'score': 0.37146061658859253}]}], 'processedTime': '2019-07-03T16:42:51.488334+00:00', 'status': 'DONE'}\n",
      "{'image1': 'e3707f2a-4f89-4964-80f6-c1d7e3a81428', 'image2': '1306b590-782d-4664-87ec-cc1a1f105fd9', 'defects': [<DefectCode.Scratch: 2>]}\n"
     ]
    }
   ],
   "source": [
    "# for every model\n",
    "clientWrongObject = MLFoundationClient(ml_servicekey_wrongobject)\n",
    "defectWrongObject = clientWrongObject.modelPredictOne(img_path, \"wrong_object\",\"WrongObjectModel\", DefectCode.WrongProduct)\n",
    "defectWrongObject2 = clientWrongObject.modelPredictOne(img_path2, \"wrong_object\",\"WrongObjectModel\", DefectCode.WrongProduct)\n",
    "\n",
    "clientHole = MLFoundationClient(ml_servicekey_hole)\n",
    "defectHole = clientHole.modelPredictOne(img_path, \"hole\",\"HoleModel\", DefectCode.Hole)\n",
    "defectHole2 = clientHole.modelPredictOne(img_path2, \"hole\",\"HoleModel\", DefectCode.Hole)\n",
    "\n",
    "clientScratch = MLFoundationClient(ml_servicekey_scratch)\n",
    "defectScratch = clientScratch.modelPredictOne(img_path, \"scratch\",\"ScratchModel\", DefectCode.Scratch)\n",
    "defectScratch2 = clientScratch.modelPredictOne(img_path2, \"scratch\",\"ScratchModel\", DefectCode.Scratch)\n",
    "\n",
    "defects = list(set(defectHole+defectHole2+defectScratch+defectScratch2+defectWrongObject+defectWrongObject2))\n",
    "\n",
    "#unite the lists\n",
    "\n",
    "\n",
    "#make the json\n",
    "imageInfo= {\n",
    "    'image1' : key,\n",
    "    'image2' : key2,\n",
    "    'defects' : defects     \n",
    "}\n",
    "print(imageInfo)"
   ]
  },
  {
   "cell_type": "code",
   "execution_count": 8,
   "metadata": {},
   "outputs": [
    {
     "name": "stdout",
     "output_type": "stream",
     "text": [
      "New register inserted succesfully\n"
     ]
    },
    {
     "data": {
      "text/plain": [
       "True"
      ]
     },
     "execution_count": 8,
     "metadata": {},
     "output_type": "execute_result"
    }
   ],
   "source": [
    "db_client.saveMachineLearningResult(imageInfo, productExists=False)"
   ]
  }
 ],
 "metadata": {
  "kernelspec": {
   "display_name": "Python 3",
   "language": "python",
   "name": "python3"
  },
  "language_info": {
   "codemirror_mode": {
    "name": "ipython",
    "version": 3
   },
   "file_extension": ".py",
   "mimetype": "text/x-python",
   "name": "python",
   "nbconvert_exporter": "python",
   "pygments_lexer": "ipython3",
   "version": "3.7.3"
  }
 },
 "nbformat": 4,
 "nbformat_minor": 2
}
