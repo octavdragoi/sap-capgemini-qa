{
 "cells": [
  {
   "cell_type": "code",
   "execution_count": 3,
   "metadata": {},
   "outputs": [],
   "source": [
    "import requests\n",
    "from keys import ml_servicekey\n",
    "skey = ml_servicekey"
   ]
  },
  {
   "cell_type": "code",
   "execution_count": 9,
   "metadata": {},
   "outputs": [],
   "source": [
    "# authentication\n",
    "auth_url = \"https://{}.authentication.eu10.hana.ondemand.com/oauth/token?grant_type=client_credentials\".\\\n",
    "    format(skey[\"identityzone\"])\n",
    "r = requests.get(auth_url, auth = (skey[\"clientid\"], skey[\"clientsecret\"]))\n",
    "access_token = \"Bearer \" + r.json()[\"access_token\"]\n",
    "auth_header = {\"Authorization\" : \"Bearer \" + r.json()[\"access_token\"]}"
   ]
  },
  {
   "cell_type": "code",
   "execution_count": 3,
   "metadata": {},
   "outputs": [
    {
     "data": {
      "text/plain": [
       "{'accessKey': '50q2BA4Qh4L',\n",
       " 'endpoint': 'ce6f1aa5.files.trial.eu-central-1.aws.ml.hana.ondemand.com',\n",
       " 'message': 'The endpoint is ready to use.',\n",
       " 'secretKey': 'gK5oiSUH8ghYH2V',\n",
       " 'status': 'READY'}"
      ]
     },
     "execution_count": 3,
     "metadata": {},
     "output_type": "execute_result"
    }
   ],
   "source": [
    "# data endpoint\n",
    "data_url = \"{}/api/v2/storage\".format(skey[\"serviceurls\"][\"JOB_SUBMISSION_API_URL\"])\n",
    "r = requests.get(data_url, headers = auth_header)\n",
    "r.json()"
   ]
  },
  {
   "cell_type": "code",
   "execution_count": 4,
   "metadata": {},
   "outputs": [
    {
     "data": {
      "text/plain": [
       "{'jobs': [{'finishTime': '2019-06-16T13:06:06+00:00',\n",
       "   'status': 'SUCCEEDED',\n",
       "   'id': 'staindata-2019-06-16t1303z614678',\n",
       "   'submissionTime': '2019-06-16T13:03:21+00:00'},\n",
       "  {'finishTime': '2019-06-16T12:58:41+00:00',\n",
       "   'status': 'SUCCEEDED',\n",
       "   'id': 'holedata-2019-06-16t1249z228075',\n",
       "   'submissionTime': '2019-06-16T12:49:54+00:00'},\n",
       "  {'finishTime': '2019-06-16T19:12:23+00:00',\n",
       "   'status': 'SUCCEEDED',\n",
       "   'id': 'wrongobjectdata-2019-06-16t1903z170173',\n",
       "   'submissionTime': '2019-06-16T19:03:48+00:00'},\n",
       "  {'finishTime': '2019-06-16T13:02:16+00:00',\n",
       "   'status': 'SUCCEEDED',\n",
       "   'id': 'scratchdata-2019-06-16t1258z293819',\n",
       "   'submissionTime': '2019-06-16T12:59:35+00:00'},\n",
       "  {'finishTime': '2019-06-16T18:48:05+00:00',\n",
       "   'status': 'SUCCEEDED',\n",
       "   'id': 'dentdata-2019-06-16t1837z200181',\n",
       "   'submissionTime': '2019-06-16T18:37:41+00:00'},\n",
       "  {'finishTime': '2019-06-10T13:37:47+00:00',\n",
       "   'status': 'SUCCEEDED',\n",
       "   'id': 'scratch-dataset-2019-06-10t1330z774111',\n",
       "   'submissionTime': '2019-06-10T13:30:51+00:00'}]}"
      ]
     },
     "execution_count": 4,
     "metadata": {},
     "output_type": "execute_result"
    }
   ],
   "source": [
    "# job status\n",
    "url = \"{}/jobs\".format(skey[\"serviceurls\"][\"IMAGE_RETRAIN_API_URL\"])\n",
    "r = requests.get(url, headers = auth_header)\n",
    "r.json()"
   ]
  },
  {
   "cell_type": "code",
   "execution_count": 5,
   "metadata": {},
   "outputs": [
    {
     "data": {
      "text/plain": [
       "{'id': '0e542a4c-93f4-4de6-6124-f8b976b701c6',\n",
       " 'predictions': [{'name': 'Photo 21-05-2019, 22 35 17.jpg',\n",
       "   'results': [{'label': 'scratch', 'score': 0.5560311079025269},\n",
       "    {'label': 'no_scratch', 'score': 0.44396889209747314}]}],\n",
       " 'processedTime': '2019-06-18T11:28:14.275788+00:00',\n",
       " 'status': 'DONE'}"
      ]
     },
     "execution_count": 5,
     "metadata": {},
     "output_type": "execute_result"
    }
   ],
   "source": [
    "# test custom deployed model\n",
    "model_name = \"scratchModel\"\n",
    "url = \"{}/models/{}/versions/1\".format(skey[\"serviceurls\"][\"IMAGE_CLASSIFICATION_URL\"], model_name)\n",
    "\n",
    "files = {'files' : open(\"/Users/octavdragoi/sap-capgemini/Dataset/samples/Photo 21-05-2019, 22 35 17.jpg\", 'rb')}\n",
    "r = requests.post(url, files = files, headers = auth_header)\n",
    "r.json()"
   ]
  },
  {
   "cell_type": "code",
   "execution_count": 8,
   "metadata": {},
   "outputs": [],
   "source": [
    "from interface import predict, authenticate"
   ]
  },
  {
   "cell_type": "code",
   "execution_count": 1,
   "metadata": {},
   "outputs": [
    {
     "ename": "NameError",
     "evalue": "name 'predict' is not defined",
     "output_type": "error",
     "traceback": [
      "\u001b[0;31m---------------------------------------------------------------------------\u001b[0m",
      "\u001b[0;31mNameError\u001b[0m                                 Traceback (most recent call last)",
      "\u001b[0;32m<ipython-input-1-edfc80482e82>\u001b[0m in \u001b[0;36m<module>\u001b[0;34m\u001b[0m\n\u001b[0;32m----> 1\u001b[0;31m \u001b[0mpredict\u001b[0m\u001b[0;34m(\u001b[0m\u001b[0;34m\"/Users/octavdragoi/sap-capgemini/Dataset/samples/Photo 21-05-2019, 22 35 17.jpg\"\u001b[0m\u001b[0;34m,\u001b[0m \u001b[0mmodel_name\u001b[0m\u001b[0;34m,\u001b[0m \u001b[0mskey\u001b[0m\u001b[0;34m,\u001b[0m \u001b[0mauth_header\u001b[0m\u001b[0;34m)\u001b[0m\u001b[0;34m\u001b[0m\u001b[0;34m\u001b[0m\u001b[0m\n\u001b[0m",
      "\u001b[0;31mNameError\u001b[0m: name 'predict' is not defined"
     ]
    }
   ],
   "source": [
    "predict(\"/Users/octavdragoi/sap-capgemini/Dataset/samples/Photo 21-05-2019, 22 35 17.jpg\", model_name, skey, auth_header)"
   ]
  },
  {
   "cell_type": "code",
   "execution_count": 6,
   "metadata": {},
   "outputs": [],
   "source": [
    "url = \"{}/deployments\".format(skey[\"serviceurls\"][\"IMAGE_RETRAIN_API_URL\"])\n",
    "r = requests.get(url, headers = auth_header)"
   ]
  },
  {
   "cell_type": "code",
   "execution_count": 8,
   "metadata": {},
   "outputs": [
    {
     "data": {
      "text/plain": [
       "{'deployments': [{'modelVersion': '1',\n",
       "   'modelContainer': {'host': 'ms-26ab976a-4275-4b78-a323-154be0343fc9.byom.trial.eu-central-1.aws.ml.hana.ondemand.com',\n",
       "    'port': 443},\n",
       "   'id': 'ms-26ab976a-4275-4b78-a323-154be0343fc9',\n",
       "   'modelName': 'scratchModel',\n",
       "   'placeholderName': 'scratchModel',\n",
       "   'status': {'state': 'SUCCEEDED',\n",
       "    'description': 'Model is deployed and ready to serve.'}}],\n",
       " 'count': 1,\n",
       " 'caCrt': '-----BEGIN CERTIFICATE-----\\nMIIElDCCA3ygAwIBAgIQAf2j627KdciIQ4tyS8+8kTANBgkqhkiG9w0BAQsFADBh\\nMQswCQYDVQQGEwJVUzEVMBMGA1UEChMMRGlnaUNlcnQgSW5jMRkwFwYDVQQLExB3\\nd3cuZGlnaWNlcnQuY29tMSAwHgYDVQQDExdEaWdpQ2VydCBHbG9iYWwgUm9vdCBD\\nQTAeFw0xMzAzMDgxMjAwMDBaFw0yMzAzMDgxMjAwMDBaME0xCzAJBgNVBAYTAlVT\\nMRUwEwYDVQQKEwxEaWdpQ2VydCBJbmMxJzAlBgNVBAMTHkRpZ2lDZXJ0IFNIQTIg\\nU2VjdXJlIFNlcnZlciBDQTCCASIwDQYJKoZIhvcNAQEBBQADggEPADCCAQoCggEB\\nANyuWJBNwcQwFZA1W248ghX1LFy949v/cUP6ZCWA1O4Yok3wZtAKc24RmDYXZK83\\nnf36QYSvx6+M/hpzTc8zl5CilodTgyu5pnVILR1WN3vaMTIa16yrBvSqXUu3R0bd\\nKpPDkC55gIDvEwRqFDu1m5K+wgdlTvza/P96rtxcflUxDOg5B6TXvi/TC2rSsd9f\\n/ld0Uzs1gN2ujkSYs58O09rg1/RrKatEp0tYhG2SS4HD2nOLEpdIkARFdRrdNzGX\\nkujNVA075ME/OV4uuPNcfhCOhkEAjUVmR7ChZc6gqikJTvOX6+guqw9ypzAO+sf0\\n/RR3w6RbKFfCs/mC/bdFWJsCAwEAAaOCAVowggFWMBIGA1UdEwEB/wQIMAYBAf8C\\nAQAwDgYDVR0PAQH/BAQDAgGGMDQGCCsGAQUFBwEBBCgwJjAkBggrBgEFBQcwAYYY\\naHR0cDovL29jc3AuZGlnaWNlcnQuY29tMHsGA1UdHwR0MHIwN6A1oDOGMWh0dHA6\\nLy9jcmwzLmRpZ2ljZXJ0LmNvbS9EaWdpQ2VydEdsb2JhbFJvb3RDQS5jcmwwN6A1\\noDOGMWh0dHA6Ly9jcmw0LmRpZ2ljZXJ0LmNvbS9EaWdpQ2VydEdsb2JhbFJvb3RD\\nQS5jcmwwPQYDVR0gBDYwNDAyBgRVHSAAMCowKAYIKwYBBQUHAgEWHGh0dHBzOi8v\\nd3d3LmRpZ2ljZXJ0LmNvbS9DUFMwHQYDVR0OBBYEFA+AYRyCMWHVLyjnjUY4tCzh\\nxtniMB8GA1UdIwQYMBaAFAPeUDVW0Uy7ZvCj4hsbw5eyPdFVMA0GCSqGSIb3DQEB\\nCwUAA4IBAQAjPt9L0jFCpbZ+QlwaRMxp0Wi0XUvgBCFsS+JtzLHgl4+mUwnNqipl\\n5TlPHoOlblyYoiQm5vuh7ZPHLgLGTUq/sELfeNqzqPlt/yGFUzZgTHbO7Djc1lGA\\n8MXW5dRNJ2Srm8c+cftIl7gzbckTB+6WohsYFfZcTEDts8Ls/3HB40f/1LkAtDdC\\n2iDJ6m6K7hQGrn2iWZiIqBtvLfTyyRRfJs8sjX7tN8Cp1Tm5gr8ZDOo0rwAhaPit\\nc+LJMto4JQtV05od8GiG7S5BNO98pVAdvzr508EIDObtHopYJeS4d60tbvVS3bR0\\nj6tJLp07kzQoH3jOlOrHvdPJbRzeXDLz\\n-----END CERTIFICATE-----\\n-----BEGIN CERTIFICATE-----\\nMIIDrzCCApegAwIBAgIQCDvgVpBCRrGhdWrJWZHHSjANBgkqhkiG9w0BAQUFADBh\\nMQswCQYDVQQGEwJVUzEVMBMGA1UEChMMRGlnaUNlcnQgSW5jMRkwFwYDVQQLExB3\\nd3cuZGlnaWNlcnQuY29tMSAwHgYDVQQDExdEaWdpQ2VydCBHbG9iYWwgUm9vdCBD\\nQTAeFw0wNjExMTAwMDAwMDBaFw0zMTExMTAwMDAwMDBaMGExCzAJBgNVBAYTAlVT\\nMRUwEwYDVQQKEwxEaWdpQ2VydCBJbmMxGTAXBgNVBAsTEHd3dy5kaWdpY2VydC5j\\nb20xIDAeBgNVBAMTF0RpZ2lDZXJ0IEdsb2JhbCBSb290IENBMIIBIjANBgkqhkiG\\n9w0BAQEFAAOCAQ8AMIIBCgKCAQEA4jvhEXLeqKTTo1eqUKKPC3eQyaKl7hLOllsB\\nCSDMAZOnTjC3U/dDxGkAV53ijSLdhwZAAIEJzs4bg7/fzTtxRuLWZscFs3YnFo97\\nnh6Vfe63SKMI2tavegw5BmV/Sl0fvBf4q77uKNd0f3p4mVmFaG5cIzJLv07A6Fpt\\n43C/dxC//AH2hdmoRBBYMql1GNXRor5H4idq9Joz+EkIYIvUX7Q6hL+hqkpMfT7P\\nT19sdl6gSzeRntwi5m3OFBqOasv+zbMUZBfHWymeMr/y7vrTC0LUq7dBMtoM1O/4\\ngdW7jVg/tRvoSSiicNoxBN33shbyTApOB6jtSj1etX+jkMOvJwIDAQABo2MwYTAO\\nBgNVHQ8BAf8EBAMCAYYwDwYDVR0TAQH/BAUwAwEB/zAdBgNVHQ4EFgQUA95QNVbR\\nTLtm8KPiGxvDl7I90VUwHwYDVR0jBBgwFoAUA95QNVbRTLtm8KPiGxvDl7I90VUw\\nDQYJKoZIhvcNAQEFBQADggEBAMucN6pIExIK+t1EnE9SsPTfrgT1eXkIoyQY/Esr\\nhMAtudXH/vTBH1jLuG2cenTnmCmrEbXjcKChzUyImZOMkXDiqw8cvpOp/2PV5Adg\\n06O/nVsJ8dWO41P0jmP6P6fbtGbfYmbW0W5BjfIttep3Sp+dWOIrWcBAI+0tKIJF\\nPnlUkiaY4IBIqDfv8NZ5YBberOgOzW6sRBc4L0na4UU+Krk2U886UAb3LujEV0ls\\nYSEY1QSteDwsOoBrp+uvFRTp2InBuThs4pFsiv9kuXclVzDAGySj4dzp30d8tbQk\\nCAUw7C29C79Fv1C5qfPrmAESrciIxpg0X40KPMbp1ZWVbd4=\\n-----END CERTIFICATE-----\\n'}"
      ]
     },
     "execution_count": 8,
     "metadata": {},
     "output_type": "execute_result"
    }
   ],
   "source": [
    "r.json()"
   ]
  },
  {
   "cell_type": "code",
   "execution_count": null,
   "metadata": {},
   "outputs": [],
   "source": []
  }
 ],
 "metadata": {
  "kernelspec": {
   "display_name": "Python 3",
   "language": "python",
   "name": "python3"
  },
  "language_info": {
   "codemirror_mode": {
    "name": "ipython",
    "version": 3
   },
   "file_extension": ".py",
   "mimetype": "text/x-python",
   "name": "python",
   "nbconvert_exporter": "python",
   "pygments_lexer": "ipython3",
   "version": "3.7.3"
  }
 },
 "nbformat": 4,
 "nbformat_minor": 2
}
