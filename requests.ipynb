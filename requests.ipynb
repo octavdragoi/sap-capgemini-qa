{
 "cells": [
  {
   "cell_type": "code",
   "execution_count": 3,
   "metadata": {},
   "outputs": [],
   "source": [
    "import requests"
   ]
  },
  {
   "cell_type": "code",
   "execution_count": 5,
   "metadata": {},
   "outputs": [],
   "source": [
    "skey = {\n",
    "\t\"clientid\": \"sb-cb8e6563-5cae-4c9d-9c64-5aec583885a0!b14930|foundation-std-mlftrial!b3410\",\n",
    "\t\"appname\": \"cb8e6563-5cae-4c9d-9c64-5aec583885a0!b14930|foundation-std-mlftrial!b3410\",\n",
    "\t\"identityzone\": \"p2001341621trial\",\n",
    "\t\"identityzoneid\": \"b2e40d36-233a-490f-8161-ed6fb963bf67\",\n",
    "\t\"clientsecret\": \"W6/Jqc2oqCjx61KtW7Xy/8xzEVU=\",\n",
    "\t\"serviceurls\": {\n",
    "\t\t\"HUMAN_DETECTION_API_URL\": \"https://mlftrial-human-detection.cfapps.eu10.hana.ondemand.com/api/v2alpha1/image/human-detection\",\n",
    "\t\t\"SCENE_TEXT_RECOGNITION_URL\": \"https://mlftrial-scene-text-recognition.cfapps.eu10.hana.ondemand.com/api/v2/image/scene-text-recognition\",\n",
    "\t\t\"TEXT_FEATURES_EXTRACTION_URL\": \"https://mlftrial-doc-feats.cfapps.eu10.hana.ondemand.com/api/v2alpha1/text/feature-extraction\",\n",
    "\t\t\"LANG_DETECTION_API_URL\": \"https://mlftrial-language-detection.cfapps.eu10.hana.ondemand.com/api/v2alpha1/text/lang-detect\",\n",
    "\t\t\"IMAGE_RETRAIN_API_URL\": \"https://mlftrial-retrain-image-api.cfapps.eu10.hana.ondemand.com/api/v2/image/retraining\",\n",
    "\t\t\"IMAGE_FEATURE_EXTRACTION_URL\": \"https://mlftrial-image-feature-extractor.cfapps.eu10.hana.ondemand.com/api/v2/image/feature-extraction\",\n",
    "\t\t\"TEXT_LINEAR_RETRAIN_API_URL\": \"https://mlftrial-retrain-text-linear-api.cfapps.eu10.hana.ondemand.com/api/v2/text/retraining\",\n",
    "\t\t\"IMAGE_OCR_URL\": \"https://mlftrial-fs-ocr.cfapps.eu10.hana.ondemand.com/api/v2/image/ocr\",\n",
    "\t\t\"SIMILARITY_SCORING_URL\": \"https://mlftrial-similarity-scoring.cfapps.eu10.hana.ondemand.com/api/v2/similarity-scoring\",\n",
    "\t\t\"IMAGE_CLASSIFICATION_URL\": \"https://mlftrial-image-classifier.cfapps.eu10.hana.ondemand.com/api/v2/image/classification\",\n",
    "\t\t\"RESOURCEPLAN_API_URL\": \"https://mlfresourceplan.trial.eu-central-1.aws.ml.hana.ondemand.com\",\n",
    "\t\t\"DEPLOYMENT_API_URL\": \"https://mlftrial-deployment-api.cfapps.eu10.hana.ondemand.com\",\n",
    "\t\t\"NN_SEARCH_RETRAIN_API_URL\": \"https://mlftrial-retrain-ann-api.cfapps.eu10.hana.ondemand.com//api/v2/tabular/ann/indexing\",\n",
    "\t\t\"TRANSLATION_URL\": \"https://mlftrial-machine-translation.cfapps.eu10.hana.ondemand.com/api/v2/text/translation\",\n",
    "\t\t\"DOCUMENT_ENTITY_EXTRACTION_API_URL\": \"https://mlftrial-dox.cfapps.eu10.hana.ondemand.com/api/v2/document/entity-extraction\",\n",
    "\t\t\"TEXT_CLASSIFIER_URL\": \"https://mlftrial-text-classifier.cfapps.eu10.hana.ondemand.com/api/v2/text/classification\",\n",
    "\t\t\"TOPIC_DETECTION_URL\": \"https://mlftrial-topic-detection.cfapps.eu10.hana.ondemand.com/api/v2/text/topic-detection\",\n",
    "\t\t\"NN_SEARCH_URL\": \"https://mlftrial-nn-search.cfapps.eu10.hana.ondemand.com/api/v2/tabular/ann\",\n",
    "\t\t\"TEXT_FEATURES_EXTRACTION_RETRAIN_API_URL\": \"https://mlftrial-retrain-doc-feats-api.cfapps.eu10.hana.ondemand.com/api/v2alpha1/text/feature-extraction/training\",\n",
    "\t\t\"JOB_SUBMISSION_API_URL\": \"https://training.trial.eu-central-1.aws.ml.hana.ondemand.com\",\n",
    "\t\t\"MODEL_REPO_URL\": \"https://mlftrial-model-api.cfapps.eu10.hana.ondemand.com\",\n",
    "\t\t\"OBJECT_DETECTION_API_URL\": \"https://mlftrial-retrain-od-inference.cfapps.eu10.hana.ondemand.com/api/v2alpha1/image/object-detection\",\n",
    "\t\t\"FACE_DETECTION_API_URL\": \"https://mlftrial-face-detector.cfapps.eu10.hana.ondemand.com/api/v2alpha1/image/face-detection\",\n",
    "\t\t\"FACE_FEATURE_EXTRACTION_API_URL\": \"https://mlftrial-face-feature-extractor.cfapps.eu10.hana.ondemand.com/api/v2alpha1/image/face-feature-extraction\"\n",
    "\t},\n",
    "\t\"url\": \"https://p2001341621trial.authentication.eu10.hana.ondemand.com\"\n",
    "}"
   ]
  },
  {
   "cell_type": "code",
   "execution_count": 20,
   "metadata": {},
   "outputs": [],
   "source": [
    "# authentication\n",
    "auth_url = \"https://{}.authentication.eu10.hana.ondemand.com/oauth/token?grant_type=client_credentials\".\\\n",
    "    format(skey[\"identityzone\"])\n",
    "r = requests.get(auth_url, auth = (skey[\"clientid\"], skey[\"clientsecret\"]))\n",
    "access_token = \"Bearer \" + r.json()[\"access_token\"]\n",
    "auth_header = {\"Authorization\" : \"Bearer \" + r.json()[\"access_token\"]}"
   ]
  },
  {
   "cell_type": "code",
   "execution_count": 23,
   "metadata": {},
   "outputs": [
    {
     "data": {
      "text/plain": [
       "{'accessKey': '50q2BA4Qh4L',\n",
       " 'endpoint': 'ce6f1aa5.files.trial.eu-central-1.aws.ml.hana.ondemand.com',\n",
       " 'message': 'The endpoint is ready to use.',\n",
       " 'secretKey': 'gK5oiSUH8ghYH2V',\n",
       " 'status': 'READY'}"
      ]
     },
     "execution_count": 23,
     "metadata": {},
     "output_type": "execute_result"
    }
   ],
   "source": [
    "# data endpoint\n",
    "data_url = \"{}/api/v2/storage\".format(skey[\"serviceurls\"][\"JOB_SUBMISSION_API_URL\"])\n",
    "r = requests.get(data_url, headers = auth_header)\n",
    "r.json()"
   ]
  },
  {
   "cell_type": "code",
   "execution_count": 30,
   "metadata": {},
   "outputs": [
    {
     "data": {
      "text/plain": [
       "{'jobs': [{'submissionTime': '2019-06-16T13:03:21+00:00',\n",
       "   'finishTime': '2019-06-16T13:06:06+00:00',\n",
       "   'id': 'staindata-2019-06-16t1303z614678',\n",
       "   'status': 'SUCCEEDED'},\n",
       "  {'submissionTime': '2019-06-16T12:49:54+00:00',\n",
       "   'finishTime': '2019-06-16T12:58:41+00:00',\n",
       "   'id': 'holedata-2019-06-16t1249z228075',\n",
       "   'status': 'SUCCEEDED'},\n",
       "  {'submissionTime': '2019-06-16T19:03:48+00:00',\n",
       "   'finishTime': '2019-06-16T19:12:23+00:00',\n",
       "   'id': 'wrongobjectdata-2019-06-16t1903z170173',\n",
       "   'status': 'SUCCEEDED'},\n",
       "  {'submissionTime': '2019-06-16T12:59:35+00:00',\n",
       "   'finishTime': '2019-06-16T13:02:16+00:00',\n",
       "   'id': 'scratchdata-2019-06-16t1258z293819',\n",
       "   'status': 'SUCCEEDED'},\n",
       "  {'submissionTime': '2019-06-16T18:37:41+00:00',\n",
       "   'finishTime': '2019-06-16T18:48:05+00:00',\n",
       "   'id': 'dentdata-2019-06-16t1837z200181',\n",
       "   'status': 'SUCCEEDED'},\n",
       "  {'submissionTime': '2019-06-10T13:30:51+00:00',\n",
       "   'finishTime': '2019-06-10T13:37:47+00:00',\n",
       "   'id': 'scratch-dataset-2019-06-10t1330z774111',\n",
       "   'status': 'SUCCEEDED'}]}"
      ]
     },
     "execution_count": 30,
     "metadata": {},
     "output_type": "execute_result"
    }
   ],
   "source": [
    "# job status\n",
    "url = \"{}/jobs\".format(skey[\"serviceurls\"][\"IMAGE_RETRAIN_API_URL\"])\n",
    "r = requests.get(url, headers = auth_header)\n",
    "r.json()"
   ]
  },
  {
   "cell_type": "code",
   "execution_count": 35,
   "metadata": {},
   "outputs": [
    {
     "data": {
      "text/plain": [
       "{'id': '79d8dc70-5b0f-48a6-54fa-6e160744593c',\n",
       " 'predictions': [{'name': 'Photo 21-05-2019, 22 35 17.jpg',\n",
       "   'results': [{'label': 'scratch', 'score': 0.5560311079025269},\n",
       "    {'label': 'no_scratch', 'score': 0.44396889209747314}]}],\n",
       " 'processedTime': '2019-06-16T19:34:09.676699+00:00',\n",
       " 'status': 'DONE'}"
      ]
     },
     "execution_count": 35,
     "metadata": {},
     "output_type": "execute_result"
    }
   ],
   "source": [
    "# test custom deployed model\n",
    "model_name = \"scratchModel\"\n",
    "url = \"{}/models/{}/versions/1\".format(skey[\"serviceurls\"][\"IMAGE_CLASSIFICATION_URL\"], model_name)\n",
    "\n",
    "files = {'files' : open(\"/Users/octavdragoi/sap-capgemini/Dataset/samples/Photo 21-05-2019, 22 35 17.jpg\", 'rb')}\n",
    "r = requests.post(url, files = files, headers = auth_header)\n",
    "r.json()"
   ]
  }
 ],
 "metadata": {
  "kernelspec": {
   "display_name": "Python 3",
   "language": "python",
   "name": "python3"
  },
  "language_info": {
   "codemirror_mode": {
    "name": "ipython",
    "version": 3
   },
   "file_extension": ".py",
   "mimetype": "text/x-python",
   "name": "python",
   "nbconvert_exporter": "python",
   "pygments_lexer": "ipython3",
   "version": "3.7.3"
  }
 },
 "nbformat": 4,
 "nbformat_minor": 2
}
