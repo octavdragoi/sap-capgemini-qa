{
 "cells": [
  {
   "cell_type": "code",
   "execution_count": 1,
   "metadata": {},
   "outputs": [],
   "source": [
    "from keys import ml_servicekey\n",
    "import ml_interface"
   ]
  },
  {
   "cell_type": "code",
   "execution_count": 2,
   "metadata": {},
   "outputs": [],
   "source": [
    "# authenticate and get the token\n",
    "client = ml_interface.MLFoundationClient(ml_servicekey)"
   ]
  },
  {
   "cell_type": "code",
   "execution_count": 3,
   "metadata": {},
   "outputs": [
    {
     "data": {
      "text/plain": [
       "{'id': 'f754b49b-d47b-4827-4ebb-7f25d78de455',\n",
       " 'predictions': [{'name': 'test-photo.jpg',\n",
       "   'results': [{'label': 'scratch', 'score': 0.5560311079025269},\n",
       "    {'label': 'no_scratch', 'score': 0.44396889209747314}]}],\n",
       " 'processedTime': '2019-06-18T12:00:24.077280+00:00',\n",
       " 'status': 'DONE'}"
      ]
     },
     "execution_count": 3,
     "metadata": {},
     "output_type": "execute_result"
    }
   ],
   "source": [
    "# predict using a model\n",
    "client.model_predict(\"test-photo.jpg\", \"scratchModel\")"
   ]
  },
  {
   "cell_type": "code",
   "execution_count": 4,
   "metadata": {
    "scrolled": false
   },
   "outputs": [
    {
     "data": {
      "text/plain": [
       "{'count': 6,\n",
       " 'models': [{'name': 'wrongobjectdata',\n",
       "   'versions': [{'updatedAt': '2019-06-16T19:12:19.473Z',\n",
       "     'createdAt': '2019-06-16T19:12:14.690Z',\n",
       "     'version': '1',\n",
       "     'checkSum': None,\n",
       "     'modelName': 'wrongobjectdata',\n",
       "     'fileName': 'wrongobjectdata.zip',\n",
       "     'metaData': {'maxUnimprovedEpochs': '10',\n",
       "      'learningRate': '0.001',\n",
       "      'mlf_custom': 'image',\n",
       "      'batchSize': '64',\n",
       "      'jobId': 'wrongobjectdata-2019-06-16t1903z170173',\n",
       "      'maxEpochs': '100',\n",
       "      'accuracy': '99.67532753944397%'}}]},\n",
       "  {'name': 'dentdata',\n",
       "   'versions': [{'updatedAt': '2019-06-16T18:47:58.060Z',\n",
       "     'createdAt': '2019-06-16T18:47:53.176Z',\n",
       "     'version': '1',\n",
       "     'checkSum': None,\n",
       "     'modelName': 'dentdata',\n",
       "     'fileName': 'dentdata.zip',\n",
       "     'metaData': {'maxUnimprovedEpochs': '10',\n",
       "      'learningRate': '0.001',\n",
       "      'mlf_custom': 'image',\n",
       "      'batchSize': '64',\n",
       "      'jobId': 'dentdata-2019-06-16t1837z200181',\n",
       "      'maxEpochs': '100',\n",
       "      'accuracy': '97.81818389892578%'}}]},\n",
       "  {'name': 'holeModel',\n",
       "   'versions': [{'updatedAt': '2019-06-16T12:58:37.286Z',\n",
       "     'createdAt': '2019-06-16T12:58:32.725Z',\n",
       "     'version': '1',\n",
       "     'checkSum': None,\n",
       "     'modelName': 'holeModel',\n",
       "     'fileName': 'holeModel.zip',\n",
       "     'metaData': {'maxUnimprovedEpochs': '10',\n",
       "      'learningRate': '0.001',\n",
       "      'mlf_custom': 'image',\n",
       "      'batchSize': '64',\n",
       "      'jobId': 'holedata-2019-06-16t1249z228075',\n",
       "      'maxEpochs': '100',\n",
       "      'accuracy': '96.82539701461792%'}}]},\n",
       "  {'name': 'scratch',\n",
       "   'versions': [{'updatedAt': '2019-06-10T13:37:44.270Z',\n",
       "     'createdAt': '2019-06-10T13:37:37.626Z',\n",
       "     'version': '1',\n",
       "     'checkSum': None,\n",
       "     'modelName': 'scratch',\n",
       "     'fileName': 'scratch.zip',\n",
       "     'metaData': {'maxUnimprovedEpochs': '10',\n",
       "      'learningRate': '0.001',\n",
       "      'mlf_custom': 'image',\n",
       "      'batchSize': '64',\n",
       "      'jobId': 'scratch-dataset-2019-06-10t1330z774111',\n",
       "      'maxEpochs': '100',\n",
       "      'accuracy': '88.72180581092834%'}}]},\n",
       "  {'name': 'stainModel',\n",
       "   'versions': [{'updatedAt': '2019-06-16T13:06:01.812Z',\n",
       "     'createdAt': '2019-06-16T13:05:56.998Z',\n",
       "     'version': '1',\n",
       "     'checkSum': None,\n",
       "     'modelName': 'stainModel',\n",
       "     'fileName': 'stainModel.zip',\n",
       "     'metaData': {'maxUnimprovedEpochs': '10',\n",
       "      'learningRate': '0.001',\n",
       "      'mlf_custom': 'image',\n",
       "      'batchSize': '64',\n",
       "      'jobId': 'staindata-2019-06-16t1303z614678',\n",
       "      'maxEpochs': '100',\n",
       "      'accuracy': '96.82539701461792%'}}]},\n",
       "  {'name': 'scratchModel',\n",
       "   'versions': [{'updatedAt': '2019-06-16T13:02:12.738Z',\n",
       "     'createdAt': '2019-06-16T13:02:06.964Z',\n",
       "     'version': '1',\n",
       "     'checkSum': None,\n",
       "     'modelName': 'scratchModel',\n",
       "     'fileName': 'scratchModel.zip',\n",
       "     'metaData': {'maxUnimprovedEpochs': '10',\n",
       "      'learningRate': '0.001',\n",
       "      'mlf_custom': 'image',\n",
       "      'batchSize': '64',\n",
       "      'jobId': 'scratchdata-2019-06-16t1258z293819',\n",
       "      'maxEpochs': '100',\n",
       "      'accuracy': '92.59259104728699%'}}]}]}"
      ]
     },
     "execution_count": 4,
     "metadata": {},
     "output_type": "execute_result"
    }
   ],
   "source": [
    "client.model_list()"
   ]
  },
  {
   "cell_type": "code",
   "execution_count": 15,
   "metadata": {
    "scrolled": false
   },
   "outputs": [
    {
     "data": {
      "text/plain": [
       "{'caCrt': '-----BEGIN CERTIFICATE-----\\nMIIElDCCA3ygAwIBAgIQAf2j627KdciIQ4tyS8+8kTANBgkqhkiG9w0BAQsFADBh\\nMQswCQYDVQQGEwJVUzEVMBMGA1UEChMMRGlnaUNlcnQgSW5jMRkwFwYDVQQLExB3\\nd3cuZGlnaWNlcnQuY29tMSAwHgYDVQQDExdEaWdpQ2VydCBHbG9iYWwgUm9vdCBD\\nQTAeFw0xMzAzMDgxMjAwMDBaFw0yMzAzMDgxMjAwMDBaME0xCzAJBgNVBAYTAlVT\\nMRUwEwYDVQQKEwxEaWdpQ2VydCBJbmMxJzAlBgNVBAMTHkRpZ2lDZXJ0IFNIQTIg\\nU2VjdXJlIFNlcnZlciBDQTCCASIwDQYJKoZIhvcNAQEBBQADggEPADCCAQoCggEB\\nANyuWJBNwcQwFZA1W248ghX1LFy949v/cUP6ZCWA1O4Yok3wZtAKc24RmDYXZK83\\nnf36QYSvx6+M/hpzTc8zl5CilodTgyu5pnVILR1WN3vaMTIa16yrBvSqXUu3R0bd\\nKpPDkC55gIDvEwRqFDu1m5K+wgdlTvza/P96rtxcflUxDOg5B6TXvi/TC2rSsd9f\\n/ld0Uzs1gN2ujkSYs58O09rg1/RrKatEp0tYhG2SS4HD2nOLEpdIkARFdRrdNzGX\\nkujNVA075ME/OV4uuPNcfhCOhkEAjUVmR7ChZc6gqikJTvOX6+guqw9ypzAO+sf0\\n/RR3w6RbKFfCs/mC/bdFWJsCAwEAAaOCAVowggFWMBIGA1UdEwEB/wQIMAYBAf8C\\nAQAwDgYDVR0PAQH/BAQDAgGGMDQGCCsGAQUFBwEBBCgwJjAkBggrBgEFBQcwAYYY\\naHR0cDovL29jc3AuZGlnaWNlcnQuY29tMHsGA1UdHwR0MHIwN6A1oDOGMWh0dHA6\\nLy9jcmwzLmRpZ2ljZXJ0LmNvbS9EaWdpQ2VydEdsb2JhbFJvb3RDQS5jcmwwN6A1\\noDOGMWh0dHA6Ly9jcmw0LmRpZ2ljZXJ0LmNvbS9EaWdpQ2VydEdsb2JhbFJvb3RD\\nQS5jcmwwPQYDVR0gBDYwNDAyBgRVHSAAMCowKAYIKwYBBQUHAgEWHGh0dHBzOi8v\\nd3d3LmRpZ2ljZXJ0LmNvbS9DUFMwHQYDVR0OBBYEFA+AYRyCMWHVLyjnjUY4tCzh\\nxtniMB8GA1UdIwQYMBaAFAPeUDVW0Uy7ZvCj4hsbw5eyPdFVMA0GCSqGSIb3DQEB\\nCwUAA4IBAQAjPt9L0jFCpbZ+QlwaRMxp0Wi0XUvgBCFsS+JtzLHgl4+mUwnNqipl\\n5TlPHoOlblyYoiQm5vuh7ZPHLgLGTUq/sELfeNqzqPlt/yGFUzZgTHbO7Djc1lGA\\n8MXW5dRNJ2Srm8c+cftIl7gzbckTB+6WohsYFfZcTEDts8Ls/3HB40f/1LkAtDdC\\n2iDJ6m6K7hQGrn2iWZiIqBtvLfTyyRRfJs8sjX7tN8Cp1Tm5gr8ZDOo0rwAhaPit\\nc+LJMto4JQtV05od8GiG7S5BNO98pVAdvzr508EIDObtHopYJeS4d60tbvVS3bR0\\nj6tJLp07kzQoH3jOlOrHvdPJbRzeXDLz\\n-----END CERTIFICATE-----\\n-----BEGIN CERTIFICATE-----\\nMIIDrzCCApegAwIBAgIQCDvgVpBCRrGhdWrJWZHHSjANBgkqhkiG9w0BAQUFADBh\\nMQswCQYDVQQGEwJVUzEVMBMGA1UEChMMRGlnaUNlcnQgSW5jMRkwFwYDVQQLExB3\\nd3cuZGlnaWNlcnQuY29tMSAwHgYDVQQDExdEaWdpQ2VydCBHbG9iYWwgUm9vdCBD\\nQTAeFw0wNjExMTAwMDAwMDBaFw0zMTExMTAwMDAwMDBaMGExCzAJBgNVBAYTAlVT\\nMRUwEwYDVQQKEwxEaWdpQ2VydCBJbmMxGTAXBgNVBAsTEHd3dy5kaWdpY2VydC5j\\nb20xIDAeBgNVBAMTF0RpZ2lDZXJ0IEdsb2JhbCBSb290IENBMIIBIjANBgkqhkiG\\n9w0BAQEFAAOCAQ8AMIIBCgKCAQEA4jvhEXLeqKTTo1eqUKKPC3eQyaKl7hLOllsB\\nCSDMAZOnTjC3U/dDxGkAV53ijSLdhwZAAIEJzs4bg7/fzTtxRuLWZscFs3YnFo97\\nnh6Vfe63SKMI2tavegw5BmV/Sl0fvBf4q77uKNd0f3p4mVmFaG5cIzJLv07A6Fpt\\n43C/dxC//AH2hdmoRBBYMql1GNXRor5H4idq9Joz+EkIYIvUX7Q6hL+hqkpMfT7P\\nT19sdl6gSzeRntwi5m3OFBqOasv+zbMUZBfHWymeMr/y7vrTC0LUq7dBMtoM1O/4\\ngdW7jVg/tRvoSSiicNoxBN33shbyTApOB6jtSj1etX+jkMOvJwIDAQABo2MwYTAO\\nBgNVHQ8BAf8EBAMCAYYwDwYDVR0TAQH/BAUwAwEB/zAdBgNVHQ4EFgQUA95QNVbR\\nTLtm8KPiGxvDl7I90VUwHwYDVR0jBBgwFoAUA95QNVbRTLtm8KPiGxvDl7I90VUw\\nDQYJKoZIhvcNAQEFBQADggEBAMucN6pIExIK+t1EnE9SsPTfrgT1eXkIoyQY/Esr\\nhMAtudXH/vTBH1jLuG2cenTnmCmrEbXjcKChzUyImZOMkXDiqw8cvpOp/2PV5Adg\\n06O/nVsJ8dWO41P0jmP6P6fbtGbfYmbW0W5BjfIttep3Sp+dWOIrWcBAI+0tKIJF\\nPnlUkiaY4IBIqDfv8NZ5YBberOgOzW6sRBc4L0na4UU+Krk2U886UAb3LujEV0ls\\nYSEY1QSteDwsOoBrp+uvFRTp2InBuThs4pFsiv9kuXclVzDAGySj4dzp30d8tbQk\\nCAUw7C29C79Fv1C5qfPrmAESrciIxpg0X40KPMbp1ZWVbd4=\\n-----END CERTIFICATE-----\\n',\n",
       " 'deployments': [{'status': {'description': 'Model is deployed and ready to serve.',\n",
       "    'state': 'SUCCEEDED'},\n",
       "   'modelName': 'scratchModel',\n",
       "   'modelVersion': '1',\n",
       "   'id': 'ms-26ab976a-4275-4b78-a323-154be0343fc9',\n",
       "   'placeholderName': 'scratchModel',\n",
       "   'modelContainer': {'port': 443,\n",
       "    'host': 'ms-26ab976a-4275-4b78-a323-154be0343fc9.byom.trial.eu-central-1.aws.ml.hana.ondemand.com'}}],\n",
       " 'count': 1}"
      ]
     },
     "execution_count": 15,
     "metadata": {},
     "output_type": "execute_result"
    }
   ],
   "source": [
    "client.model_list_deployed()"
   ]
  },
  {
   "cell_type": "code",
   "execution_count": null,
   "metadata": {},
   "outputs": [],
   "source": []
  }
 ],
 "metadata": {
  "kernelspec": {
   "display_name": "Python 3",
   "language": "python",
   "name": "python3"
  },
  "language_info": {
   "codemirror_mode": {
    "name": "ipython",
    "version": 3
   },
   "file_extension": ".py",
   "mimetype": "text/x-python",
   "name": "python",
   "nbconvert_exporter": "python",
   "pygments_lexer": "ipython3",
   "version": "3.7.3"
  }
 },
 "nbformat": 4,
 "nbformat_minor": 2
}
