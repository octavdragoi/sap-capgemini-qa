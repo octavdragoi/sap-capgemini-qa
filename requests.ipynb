{
 "cells": [
  {
   "cell_type": "code",
   "execution_count": 1,
   "metadata": {},
   "outputs": [],
   "source": [
    "import requests\n",
    "from keys import skey"
   ]
  },
  {
   "cell_type": "code",
   "execution_count": 2,
   "metadata": {},
   "outputs": [],
   "source": [
    "# authentication\n",
    "auth_url = \"https://{}.authentication.eu10.hana.ondemand.com/oauth/token?grant_type=client_credentials\".\\\n",
    "    format(skey[\"identityzone\"])\n",
    "r = requests.get(auth_url, auth = (skey[\"clientid\"], skey[\"clientsecret\"]))\n",
    "access_token = \"Bearer \" + r.json()[\"access_token\"]\n",
    "auth_header = {\"Authorization\" : \"Bearer \" + r.json()[\"access_token\"]}"
   ]
  },
  {
   "cell_type": "code",
   "execution_count": 3,
   "metadata": {},
   "outputs": [
    {
     "data": {
      "text/plain": [
       "{'accessKey': '50q2BA4Qh4L',\n",
       " 'endpoint': 'ce6f1aa5.files.trial.eu-central-1.aws.ml.hana.ondemand.com',\n",
       " 'message': 'The endpoint is ready to use.',\n",
       " 'secretKey': 'gK5oiSUH8ghYH2V',\n",
       " 'status': 'READY'}"
      ]
     },
     "execution_count": 3,
     "metadata": {},
     "output_type": "execute_result"
    }
   ],
   "source": [
    "# data endpoint\n",
    "data_url = \"{}/api/v2/storage\".format(skey[\"serviceurls\"][\"JOB_SUBMISSION_API_URL\"])\n",
    "r = requests.get(data_url, headers = auth_header)\n",
    "r.json()"
   ]
  },
  {
   "cell_type": "code",
   "execution_count": 4,
   "metadata": {},
   "outputs": [
    {
     "data": {
      "text/plain": [
       "{'jobs': [{'finishTime': '2019-06-16T13:06:06+00:00',\n",
       "   'status': 'SUCCEEDED',\n",
       "   'id': 'staindata-2019-06-16t1303z614678',\n",
       "   'submissionTime': '2019-06-16T13:03:21+00:00'},\n",
       "  {'finishTime': '2019-06-16T12:58:41+00:00',\n",
       "   'status': 'SUCCEEDED',\n",
       "   'id': 'holedata-2019-06-16t1249z228075',\n",
       "   'submissionTime': '2019-06-16T12:49:54+00:00'},\n",
       "  {'finishTime': '2019-06-16T19:12:23+00:00',\n",
       "   'status': 'SUCCEEDED',\n",
       "   'id': 'wrongobjectdata-2019-06-16t1903z170173',\n",
       "   'submissionTime': '2019-06-16T19:03:48+00:00'},\n",
       "  {'finishTime': '2019-06-16T13:02:16+00:00',\n",
       "   'status': 'SUCCEEDED',\n",
       "   'id': 'scratchdata-2019-06-16t1258z293819',\n",
       "   'submissionTime': '2019-06-16T12:59:35+00:00'},\n",
       "  {'finishTime': '2019-06-16T18:48:05+00:00',\n",
       "   'status': 'SUCCEEDED',\n",
       "   'id': 'dentdata-2019-06-16t1837z200181',\n",
       "   'submissionTime': '2019-06-16T18:37:41+00:00'},\n",
       "  {'finishTime': '2019-06-10T13:37:47+00:00',\n",
       "   'status': 'SUCCEEDED',\n",
       "   'id': 'scratch-dataset-2019-06-10t1330z774111',\n",
       "   'submissionTime': '2019-06-10T13:30:51+00:00'}]}"
      ]
     },
     "execution_count": 4,
     "metadata": {},
     "output_type": "execute_result"
    }
   ],
   "source": [
    "# job status\n",
    "url = \"{}/jobs\".format(skey[\"serviceurls\"][\"IMAGE_RETRAIN_API_URL\"])\n",
    "r = requests.get(url, headers = auth_header)\n",
    "r.json()"
   ]
  },
  {
   "cell_type": "code",
   "execution_count": 6,
   "metadata": {},
   "outputs": [
    {
     "data": {
      "text/plain": [
       "{'id': 'eae69594-6628-4476-49d4-56758aa5e646',\n",
       " 'predictions': [{'name': 'Photo 21-05-2019, 22 35 17.jpg',\n",
       "   'results': [{'label': 'scratch', 'score': 0.5560311079025269},\n",
       "    {'label': 'no_scratch', 'score': 0.44396889209747314}]}],\n",
       " 'processedTime': '2019-06-18T11:13:25.277999+00:00',\n",
       " 'status': 'DONE'}"
      ]
     },
     "execution_count": 6,
     "metadata": {},
     "output_type": "execute_result"
    }
   ],
   "source": [
    "# test custom deployed model\n",
    "model_name = \"scratchModel\"\n",
    "url = \"{}/models/{}/versions/1\".format(skey[\"serviceurls\"][\"IMAGE_CLASSIFICATION_URL\"], model_name)\n",
    "\n",
    "files = {'files' : open(\"/Users/octavdragoi/sap-capgemini/Dataset/samples/Photo 21-05-2019, 22 35 17.jpg\", 'rb')}\n",
    "r = requests.post(url, files = files, headers = auth_header)\n",
    "r.json()"
   ]
  }
 ],
 "metadata": {
  "kernelspec": {
   "display_name": "Python 3",
   "language": "python",
   "name": "python3"
  },
  "language_info": {
   "codemirror_mode": {
    "name": "ipython",
    "version": 3
   },
   "file_extension": ".py",
   "mimetype": "text/x-python",
   "name": "python",
   "nbconvert_exporter": "python",
   "pygments_lexer": "ipython3",
   "version": "3.7.3"
  }
 },
 "nbformat": 4,
 "nbformat_minor": 2
}
